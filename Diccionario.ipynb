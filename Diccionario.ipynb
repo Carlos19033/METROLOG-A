{
  "nbformat": 4,
  "nbformat_minor": 0,
  "metadata": {
    "colab": {
      "provenance": [],
      "authorship_tag": "ABX9TyMCNxIO21b/eeuAxnCMwzwn",
      "include_colab_link": true
    },
    "kernelspec": {
      "name": "python3",
      "display_name": "Python 3"
    },
    "language_info": {
      "name": "python"
    }
  },
  "cells": [
    {
      "cell_type": "markdown",
      "metadata": {
        "id": "view-in-github",
        "colab_type": "text"
      },
      "source": [
        "<a href=\"https://colab.research.google.com/github/Carlos19033/METROLOG-A/blob/main/Diccionario.ipynb\" target=\"_parent\"><img src=\"https://colab.research.google.com/assets/colab-badge.svg\" alt=\"Open In Colab\"/></a>"
      ]
    },
    {
      "cell_type": "markdown",
      "source": [
        "BASE DE DATOS"
      ],
      "metadata": {
        "id": "YDXOTMmMwCnP"
      }
    },
    {
      "cell_type": "code",
      "execution_count": 11,
      "metadata": {
        "id": "QPD-lgQhv2Zx"
      },
      "outputs": [],
      "source": [
        "import pandas as pd\n",
        "import statistics as st"
      ]
    },
    {
      "cell_type": "code",
      "source": [
        "Data = {'Measurement': [1, 2, 3, 4, 5, 6, 7, 8, 9, 10, 11, 12, 13, 14, 15, 16,\n",
        "                         17, 18, 19, 20, 21, 22, 23, 24, 25, 26, 27, 28, 29, 30,\n",
        "                         31, 32, 33, 34, 35, 36],\n",
        "\n",
        "        'Length(m)': [1.118, 1.262, 1.118, 0.480, 1.014, 0.955, 0.978, 0.972,\n",
        "                       1.190, 1.055, 0.886, 1.071, 0.861, 1.055, 0.834, 1.106,\n",
        "                       0.912, 0.773, 0.958, 1.152, 1.324, 2.192, 0.779, 0.692,\n",
        "                       1.036, 1.618, 1.187, 0.884, 0.858, 1.269, 0.811, 0.811,\n",
        "                       0.636, 0.710, 0.675, 0.830] }\n"
      ],
      "metadata": {
        "id": "yMqnCAMEL0aJ"
      },
      "execution_count": 12,
      "outputs": []
    },
    {
      "cell_type": "code",
      "source": [
        "print(Data)"
      ],
      "metadata": {
        "colab": {
          "base_uri": "https://localhost:8080/"
        },
        "id": "lTdbfOriMB9R",
        "outputId": "1515c860-db1a-49bb-dc3e-bf9652ac5d8e"
      },
      "execution_count": 13,
      "outputs": [
        {
          "output_type": "stream",
          "name": "stdout",
          "text": [
            "{'Measurement': [1, 2, 3, 4, 5, 6, 7, 8, 9, 10, 11, 12, 13, 14, 15, 16, 17, 18, 19, 20, 21, 22, 23, 24, 25, 26, 27, 28, 29, 30, 31, 32, 33, 34, 35, 36], 'Length(m)': [1.118, 1.262, 1.118, 0.48, 1.014, 0.955, 0.978, 0.972, 1.19, 1.055, 0.886, 1.071, 0.861, 1.055, 0.834, 1.106, 0.912, 0.773, 0.958, 1.152, 1.324, 2.192, 0.779, 0.692, 1.036, 1.618, 1.187, 0.884, 0.858, 1.269, 0.811, 0.811, 0.636, 0.71, 0.675, 0.83]}\n"
          ]
        }
      ]
    },
    {
      "cell_type": "code",
      "source": [
        "\n",
        "df = pd.DataFrame(Data)\n",
        "df.head(36)"
      ],
      "metadata": {
        "colab": {
          "base_uri": "https://localhost:8080/",
          "height": 1000
        },
        "id": "Cb2j6aj1NULL",
        "outputId": "b7966d29-60c2-46c4-e3af-dbc0aca8b85b"
      },
      "execution_count": 14,
      "outputs": [
        {
          "output_type": "execute_result",
          "data": {
            "text/plain": [
              "    Measurement  Length(m)\n",
              "0             1      1.118\n",
              "1             2      1.262\n",
              "2             3      1.118\n",
              "3             4      0.480\n",
              "4             5      1.014\n",
              "5             6      0.955\n",
              "6             7      0.978\n",
              "7             8      0.972\n",
              "8             9      1.190\n",
              "9            10      1.055\n",
              "10           11      0.886\n",
              "11           12      1.071\n",
              "12           13      0.861\n",
              "13           14      1.055\n",
              "14           15      0.834\n",
              "15           16      1.106\n",
              "16           17      0.912\n",
              "17           18      0.773\n",
              "18           19      0.958\n",
              "19           20      1.152\n",
              "20           21      1.324\n",
              "21           22      2.192\n",
              "22           23      0.779\n",
              "23           24      0.692\n",
              "24           25      1.036\n",
              "25           26      1.618\n",
              "26           27      1.187\n",
              "27           28      0.884\n",
              "28           29      0.858\n",
              "29           30      1.269\n",
              "30           31      0.811\n",
              "31           32      0.811\n",
              "32           33      0.636\n",
              "33           34      0.710\n",
              "34           35      0.675\n",
              "35           36      0.830"
            ],
            "text/html": [
              "\n",
              "  <div id=\"df-439f0c78-fac3-48f7-9489-fdfd08c33451\" class=\"colab-df-container\">\n",
              "    <div>\n",
              "<style scoped>\n",
              "    .dataframe tbody tr th:only-of-type {\n",
              "        vertical-align: middle;\n",
              "    }\n",
              "\n",
              "    .dataframe tbody tr th {\n",
              "        vertical-align: top;\n",
              "    }\n",
              "\n",
              "    .dataframe thead th {\n",
              "        text-align: right;\n",
              "    }\n",
              "</style>\n",
              "<table border=\"1\" class=\"dataframe\">\n",
              "  <thead>\n",
              "    <tr style=\"text-align: right;\">\n",
              "      <th></th>\n",
              "      <th>Measurement</th>\n",
              "      <th>Length(m)</th>\n",
              "    </tr>\n",
              "  </thead>\n",
              "  <tbody>\n",
              "    <tr>\n",
              "      <th>0</th>\n",
              "      <td>1</td>\n",
              "      <td>1.118</td>\n",
              "    </tr>\n",
              "    <tr>\n",
              "      <th>1</th>\n",
              "      <td>2</td>\n",
              "      <td>1.262</td>\n",
              "    </tr>\n",
              "    <tr>\n",
              "      <th>2</th>\n",
              "      <td>3</td>\n",
              "      <td>1.118</td>\n",
              "    </tr>\n",
              "    <tr>\n",
              "      <th>3</th>\n",
              "      <td>4</td>\n",
              "      <td>0.480</td>\n",
              "    </tr>\n",
              "    <tr>\n",
              "      <th>4</th>\n",
              "      <td>5</td>\n",
              "      <td>1.014</td>\n",
              "    </tr>\n",
              "    <tr>\n",
              "      <th>5</th>\n",
              "      <td>6</td>\n",
              "      <td>0.955</td>\n",
              "    </tr>\n",
              "    <tr>\n",
              "      <th>6</th>\n",
              "      <td>7</td>\n",
              "      <td>0.978</td>\n",
              "    </tr>\n",
              "    <tr>\n",
              "      <th>7</th>\n",
              "      <td>8</td>\n",
              "      <td>0.972</td>\n",
              "    </tr>\n",
              "    <tr>\n",
              "      <th>8</th>\n",
              "      <td>9</td>\n",
              "      <td>1.190</td>\n",
              "    </tr>\n",
              "    <tr>\n",
              "      <th>9</th>\n",
              "      <td>10</td>\n",
              "      <td>1.055</td>\n",
              "    </tr>\n",
              "    <tr>\n",
              "      <th>10</th>\n",
              "      <td>11</td>\n",
              "      <td>0.886</td>\n",
              "    </tr>\n",
              "    <tr>\n",
              "      <th>11</th>\n",
              "      <td>12</td>\n",
              "      <td>1.071</td>\n",
              "    </tr>\n",
              "    <tr>\n",
              "      <th>12</th>\n",
              "      <td>13</td>\n",
              "      <td>0.861</td>\n",
              "    </tr>\n",
              "    <tr>\n",
              "      <th>13</th>\n",
              "      <td>14</td>\n",
              "      <td>1.055</td>\n",
              "    </tr>\n",
              "    <tr>\n",
              "      <th>14</th>\n",
              "      <td>15</td>\n",
              "      <td>0.834</td>\n",
              "    </tr>\n",
              "    <tr>\n",
              "      <th>15</th>\n",
              "      <td>16</td>\n",
              "      <td>1.106</td>\n",
              "    </tr>\n",
              "    <tr>\n",
              "      <th>16</th>\n",
              "      <td>17</td>\n",
              "      <td>0.912</td>\n",
              "    </tr>\n",
              "    <tr>\n",
              "      <th>17</th>\n",
              "      <td>18</td>\n",
              "      <td>0.773</td>\n",
              "    </tr>\n",
              "    <tr>\n",
              "      <th>18</th>\n",
              "      <td>19</td>\n",
              "      <td>0.958</td>\n",
              "    </tr>\n",
              "    <tr>\n",
              "      <th>19</th>\n",
              "      <td>20</td>\n",
              "      <td>1.152</td>\n",
              "    </tr>\n",
              "    <tr>\n",
              "      <th>20</th>\n",
              "      <td>21</td>\n",
              "      <td>1.324</td>\n",
              "    </tr>\n",
              "    <tr>\n",
              "      <th>21</th>\n",
              "      <td>22</td>\n",
              "      <td>2.192</td>\n",
              "    </tr>\n",
              "    <tr>\n",
              "      <th>22</th>\n",
              "      <td>23</td>\n",
              "      <td>0.779</td>\n",
              "    </tr>\n",
              "    <tr>\n",
              "      <th>23</th>\n",
              "      <td>24</td>\n",
              "      <td>0.692</td>\n",
              "    </tr>\n",
              "    <tr>\n",
              "      <th>24</th>\n",
              "      <td>25</td>\n",
              "      <td>1.036</td>\n",
              "    </tr>\n",
              "    <tr>\n",
              "      <th>25</th>\n",
              "      <td>26</td>\n",
              "      <td>1.618</td>\n",
              "    </tr>\n",
              "    <tr>\n",
              "      <th>26</th>\n",
              "      <td>27</td>\n",
              "      <td>1.187</td>\n",
              "    </tr>\n",
              "    <tr>\n",
              "      <th>27</th>\n",
              "      <td>28</td>\n",
              "      <td>0.884</td>\n",
              "    </tr>\n",
              "    <tr>\n",
              "      <th>28</th>\n",
              "      <td>29</td>\n",
              "      <td>0.858</td>\n",
              "    </tr>\n",
              "    <tr>\n",
              "      <th>29</th>\n",
              "      <td>30</td>\n",
              "      <td>1.269</td>\n",
              "    </tr>\n",
              "    <tr>\n",
              "      <th>30</th>\n",
              "      <td>31</td>\n",
              "      <td>0.811</td>\n",
              "    </tr>\n",
              "    <tr>\n",
              "      <th>31</th>\n",
              "      <td>32</td>\n",
              "      <td>0.811</td>\n",
              "    </tr>\n",
              "    <tr>\n",
              "      <th>32</th>\n",
              "      <td>33</td>\n",
              "      <td>0.636</td>\n",
              "    </tr>\n",
              "    <tr>\n",
              "      <th>33</th>\n",
              "      <td>34</td>\n",
              "      <td>0.710</td>\n",
              "    </tr>\n",
              "    <tr>\n",
              "      <th>34</th>\n",
              "      <td>35</td>\n",
              "      <td>0.675</td>\n",
              "    </tr>\n",
              "    <tr>\n",
              "      <th>35</th>\n",
              "      <td>36</td>\n",
              "      <td>0.830</td>\n",
              "    </tr>\n",
              "  </tbody>\n",
              "</table>\n",
              "</div>\n",
              "    <div class=\"colab-df-buttons\">\n",
              "\n",
              "  <div class=\"colab-df-container\">\n",
              "    <button class=\"colab-df-convert\" onclick=\"convertToInteractive('df-439f0c78-fac3-48f7-9489-fdfd08c33451')\"\n",
              "            title=\"Convert this dataframe to an interactive table.\"\n",
              "            style=\"display:none;\">\n",
              "\n",
              "  <svg xmlns=\"http://www.w3.org/2000/svg\" height=\"24px\" viewBox=\"0 -960 960 960\">\n",
              "    <path d=\"M120-120v-720h720v720H120Zm60-500h600v-160H180v160Zm220 220h160v-160H400v160Zm0 220h160v-160H400v160ZM180-400h160v-160H180v160Zm440 0h160v-160H620v160ZM180-180h160v-160H180v160Zm440 0h160v-160H620v160Z\"/>\n",
              "  </svg>\n",
              "    </button>\n",
              "\n",
              "  <style>\n",
              "    .colab-df-container {\n",
              "      display:flex;\n",
              "      gap: 12px;\n",
              "    }\n",
              "\n",
              "    .colab-df-convert {\n",
              "      background-color: #E8F0FE;\n",
              "      border: none;\n",
              "      border-radius: 50%;\n",
              "      cursor: pointer;\n",
              "      display: none;\n",
              "      fill: #1967D2;\n",
              "      height: 32px;\n",
              "      padding: 0 0 0 0;\n",
              "      width: 32px;\n",
              "    }\n",
              "\n",
              "    .colab-df-convert:hover {\n",
              "      background-color: #E2EBFA;\n",
              "      box-shadow: 0px 1px 2px rgba(60, 64, 67, 0.3), 0px 1px 3px 1px rgba(60, 64, 67, 0.15);\n",
              "      fill: #174EA6;\n",
              "    }\n",
              "\n",
              "    .colab-df-buttons div {\n",
              "      margin-bottom: 4px;\n",
              "    }\n",
              "\n",
              "    [theme=dark] .colab-df-convert {\n",
              "      background-color: #3B4455;\n",
              "      fill: #D2E3FC;\n",
              "    }\n",
              "\n",
              "    [theme=dark] .colab-df-convert:hover {\n",
              "      background-color: #434B5C;\n",
              "      box-shadow: 0px 1px 3px 1px rgba(0, 0, 0, 0.15);\n",
              "      filter: drop-shadow(0px 1px 2px rgba(0, 0, 0, 0.3));\n",
              "      fill: #FFFFFF;\n",
              "    }\n",
              "  </style>\n",
              "\n",
              "    <script>\n",
              "      const buttonEl =\n",
              "        document.querySelector('#df-439f0c78-fac3-48f7-9489-fdfd08c33451 button.colab-df-convert');\n",
              "      buttonEl.style.display =\n",
              "        google.colab.kernel.accessAllowed ? 'block' : 'none';\n",
              "\n",
              "      async function convertToInteractive(key) {\n",
              "        const element = document.querySelector('#df-439f0c78-fac3-48f7-9489-fdfd08c33451');\n",
              "        const dataTable =\n",
              "          await google.colab.kernel.invokeFunction('convertToInteractive',\n",
              "                                                    [key], {});\n",
              "        if (!dataTable) return;\n",
              "\n",
              "        const docLinkHtml = 'Like what you see? Visit the ' +\n",
              "          '<a target=\"_blank\" href=https://colab.research.google.com/notebooks/data_table.ipynb>data table notebook</a>'\n",
              "          + ' to learn more about interactive tables.';\n",
              "        element.innerHTML = '';\n",
              "        dataTable['output_type'] = 'display_data';\n",
              "        await google.colab.output.renderOutput(dataTable, element);\n",
              "        const docLink = document.createElement('div');\n",
              "        docLink.innerHTML = docLinkHtml;\n",
              "        element.appendChild(docLink);\n",
              "      }\n",
              "    </script>\n",
              "  </div>\n",
              "\n",
              "\n",
              "    <div id=\"df-1ffb63e4-1b5c-4d30-b6bd-2994c51733a3\">\n",
              "      <button class=\"colab-df-quickchart\" onclick=\"quickchart('df-1ffb63e4-1b5c-4d30-b6bd-2994c51733a3')\"\n",
              "                title=\"Suggest charts\"\n",
              "                style=\"display:none;\">\n",
              "\n",
              "<svg xmlns=\"http://www.w3.org/2000/svg\" height=\"24px\"viewBox=\"0 0 24 24\"\n",
              "     width=\"24px\">\n",
              "    <g>\n",
              "        <path d=\"M19 3H5c-1.1 0-2 .9-2 2v14c0 1.1.9 2 2 2h14c1.1 0 2-.9 2-2V5c0-1.1-.9-2-2-2zM9 17H7v-7h2v7zm4 0h-2V7h2v10zm4 0h-2v-4h2v4z\"/>\n",
              "    </g>\n",
              "</svg>\n",
              "      </button>\n",
              "\n",
              "<style>\n",
              "  .colab-df-quickchart {\n",
              "      --bg-color: #E8F0FE;\n",
              "      --fill-color: #1967D2;\n",
              "      --hover-bg-color: #E2EBFA;\n",
              "      --hover-fill-color: #174EA6;\n",
              "      --disabled-fill-color: #AAA;\n",
              "      --disabled-bg-color: #DDD;\n",
              "  }\n",
              "\n",
              "  [theme=dark] .colab-df-quickchart {\n",
              "      --bg-color: #3B4455;\n",
              "      --fill-color: #D2E3FC;\n",
              "      --hover-bg-color: #434B5C;\n",
              "      --hover-fill-color: #FFFFFF;\n",
              "      --disabled-bg-color: #3B4455;\n",
              "      --disabled-fill-color: #666;\n",
              "  }\n",
              "\n",
              "  .colab-df-quickchart {\n",
              "    background-color: var(--bg-color);\n",
              "    border: none;\n",
              "    border-radius: 50%;\n",
              "    cursor: pointer;\n",
              "    display: none;\n",
              "    fill: var(--fill-color);\n",
              "    height: 32px;\n",
              "    padding: 0;\n",
              "    width: 32px;\n",
              "  }\n",
              "\n",
              "  .colab-df-quickchart:hover {\n",
              "    background-color: var(--hover-bg-color);\n",
              "    box-shadow: 0 1px 2px rgba(60, 64, 67, 0.3), 0 1px 3px 1px rgba(60, 64, 67, 0.15);\n",
              "    fill: var(--button-hover-fill-color);\n",
              "  }\n",
              "\n",
              "  .colab-df-quickchart-complete:disabled,\n",
              "  .colab-df-quickchart-complete:disabled:hover {\n",
              "    background-color: var(--disabled-bg-color);\n",
              "    fill: var(--disabled-fill-color);\n",
              "    box-shadow: none;\n",
              "  }\n",
              "\n",
              "  .colab-df-spinner {\n",
              "    border: 2px solid var(--fill-color);\n",
              "    border-color: transparent;\n",
              "    border-bottom-color: var(--fill-color);\n",
              "    animation:\n",
              "      spin 1s steps(1) infinite;\n",
              "  }\n",
              "\n",
              "  @keyframes spin {\n",
              "    0% {\n",
              "      border-color: transparent;\n",
              "      border-bottom-color: var(--fill-color);\n",
              "      border-left-color: var(--fill-color);\n",
              "    }\n",
              "    20% {\n",
              "      border-color: transparent;\n",
              "      border-left-color: var(--fill-color);\n",
              "      border-top-color: var(--fill-color);\n",
              "    }\n",
              "    30% {\n",
              "      border-color: transparent;\n",
              "      border-left-color: var(--fill-color);\n",
              "      border-top-color: var(--fill-color);\n",
              "      border-right-color: var(--fill-color);\n",
              "    }\n",
              "    40% {\n",
              "      border-color: transparent;\n",
              "      border-right-color: var(--fill-color);\n",
              "      border-top-color: var(--fill-color);\n",
              "    }\n",
              "    60% {\n",
              "      border-color: transparent;\n",
              "      border-right-color: var(--fill-color);\n",
              "    }\n",
              "    80% {\n",
              "      border-color: transparent;\n",
              "      border-right-color: var(--fill-color);\n",
              "      border-bottom-color: var(--fill-color);\n",
              "    }\n",
              "    90% {\n",
              "      border-color: transparent;\n",
              "      border-bottom-color: var(--fill-color);\n",
              "    }\n",
              "  }\n",
              "</style>\n",
              "\n",
              "      <script>\n",
              "        async function quickchart(key) {\n",
              "          const quickchartButtonEl =\n",
              "            document.querySelector('#' + key + ' button');\n",
              "          quickchartButtonEl.disabled = true;  // To prevent multiple clicks.\n",
              "          quickchartButtonEl.classList.add('colab-df-spinner');\n",
              "          try {\n",
              "            const charts = await google.colab.kernel.invokeFunction(\n",
              "                'suggestCharts', [key], {});\n",
              "          } catch (error) {\n",
              "            console.error('Error during call to suggestCharts:', error);\n",
              "          }\n",
              "          quickchartButtonEl.classList.remove('colab-df-spinner');\n",
              "          quickchartButtonEl.classList.add('colab-df-quickchart-complete');\n",
              "        }\n",
              "        (() => {\n",
              "          let quickchartButtonEl =\n",
              "            document.querySelector('#df-1ffb63e4-1b5c-4d30-b6bd-2994c51733a3 button');\n",
              "          quickchartButtonEl.style.display =\n",
              "            google.colab.kernel.accessAllowed ? 'block' : 'none';\n",
              "        })();\n",
              "      </script>\n",
              "    </div>\n",
              "\n",
              "    </div>\n",
              "  </div>\n"
            ],
            "application/vnd.google.colaboratory.intrinsic+json": {
              "type": "dataframe",
              "variable_name": "df",
              "summary": "{\n  \"name\": \"df\",\n  \"rows\": 36,\n  \"fields\": [\n    {\n      \"column\": \"Measurement\",\n      \"properties\": {\n        \"dtype\": \"number\",\n        \"std\": 10,\n        \"min\": 1,\n        \"max\": 36,\n        \"num_unique_values\": 36,\n        \"samples\": [\n          36,\n          14,\n          27\n        ],\n        \"semantic_type\": \"\",\n        \"description\": \"\"\n      }\n    },\n    {\n      \"column\": \"Length(m)\",\n      \"properties\": {\n        \"dtype\": \"number\",\n        \"std\": 0.3018511090976677,\n        \"min\": 0.48,\n        \"max\": 2.192,\n        \"num_unique_values\": 33,\n        \"samples\": [\n          0.675,\n          0.773,\n          0.858\n        ],\n        \"semantic_type\": \"\",\n        \"description\": \"\"\n      }\n    }\n  ]\n}"
            }
          },
          "metadata": {},
          "execution_count": 14
        }
      ]
    },
    {
      "cell_type": "code",
      "source": [
        "Estatura = df['Length(m)']"
      ],
      "metadata": {
        "id": "EIymYY8iyieN"
      },
      "execution_count": 15,
      "outputs": []
    },
    {
      "cell_type": "markdown",
      "source": [
        "Estadistica con Pandas"
      ],
      "metadata": {
        "id": "jfGu2VlszhMs"
      }
    },
    {
      "cell_type": "code",
      "source": [
        "print(Estatura.describe())"
      ],
      "metadata": {
        "colab": {
          "base_uri": "https://localhost:8080/"
        },
        "id": "gBCde0MPxEJd",
        "outputId": "02d23e81-33a8-42dc-8c86-04386333e94f"
      },
      "execution_count": 17,
      "outputs": [
        {
          "output_type": "stream",
          "name": "stdout",
          "text": [
            "count    36.000000\n",
            "mean      1.001722\n",
            "std       0.301851\n",
            "min       0.480000\n",
            "25%       0.825250\n",
            "50%       0.965000\n",
            "75%       1.118000\n",
            "max       2.192000\n",
            "Name: Length(m), dtype: float64\n"
          ]
        }
      ]
    },
    {
      "cell_type": "code",
      "source": [
        "print(Estatura.mode())\n",
        "print('\\n')\n",
        "print('Mediana: ',Estatura.median())"
      ],
      "metadata": {
        "colab": {
          "base_uri": "https://localhost:8080/"
        },
        "id": "ZYpKmEVIOs0T",
        "outputId": "9f295d9d-25c3-4a3e-a518-bb48475ffc42"
      },
      "execution_count": 18,
      "outputs": [
        {
          "output_type": "stream",
          "name": "stdout",
          "text": [
            "0    0.811\n",
            "1    1.055\n",
            "2    1.118\n",
            "Name: Length(m), dtype: float64\n",
            "\n",
            "\n",
            "Mediana:  0.965\n"
          ]
        }
      ]
    },
    {
      "cell_type": "markdown",
      "source": [
        "Estadistica con Statics"
      ],
      "metadata": {
        "id": "jfk_TKQ5zbTt"
      }
    },
    {
      "cell_type": "code",
      "source": [
        "Media = st.mean(Estatura)\n",
        "print('Media :', Media)\n",
        "\n",
        "Mediana = st.median(Estatura)\n",
        "print('Mediana :', Mediana)\n",
        "\n",
        "Moda = st.mode(Estatura)\n",
        "print('Moda :', Moda)\n",
        "\n",
        "Desv = st.pstdev(Estatura)\n",
        "print('Desviacion Estandar :', Desv)\n",
        "\n",
        "Varianza = st.pvariance(Estatura)\n",
        "print('Varianza :', Varianza)\n",
        "\n",
        "C1 = st.quantiles(Estatura)[0]\n",
        "print(\"Primer cuartil: \", C1)\n",
        "\n",
        "C2 = st.quantiles(Estatura)[1]\n",
        "print(\"Segundo cuartil: \", C2)\n",
        "\n",
        "C3 = st.quantiles(Estatura)[2]\n",
        "print(\"Tercer cuartil: \", C3)\n"
      ],
      "metadata": {
        "colab": {
          "base_uri": "https://localhost:8080/"
        },
        "id": "g5ryXuo9zbDl",
        "outputId": "e03dc70a-322b-4b3c-b145-419dd1a13425"
      },
      "execution_count": null,
      "outputs": [
        {
          "output_type": "stream",
          "name": "stdout",
          "text": [
            "Media : 1.0017222222222222\n",
            "Mediana : 0.965\n",
            "Moda : 1.118\n",
            "Desviacion Estandar : 0.29762920733981807\n",
            "Varianza : 0.08858314506172842\n",
            "Primer cuartil:  0.8157500000000001\n",
            "Segundo cuartil:  0.965\n",
            "Tercer cuartil:  1.118\n"
          ]
        }
      ]
    },
    {
      "cell_type": "markdown",
      "source": [
        "CODIGO DEL DICCIONARIO"
      ],
      "metadata": {
        "id": "P-5WtpcX-C_-"
      }
    },
    {
      "cell_type": "code",
      "source": [
        "heights_dict = {\n",
        "    #Muestras\n",
        "    \"P1\": 1.118, \"P2\": 1.262, \"P3\": 1.118, \"P4\": 0.480, \"P5\": 1.014, \"P6\": 0.955,\n",
        "    \"P7\": 0.978, \"P8\": 0.972, \"P9\": 1.190, \"P10\": 1.055, \"P11\": 0.886, \"P12\": 1.071,\n",
        "    \"P13\": 0.861, \"P14\": 1.055, \"P15\": 0.834, \"P16\": 1.106, \"P17\": 0.912, \"P18\": 0.773,\n",
        "    \"P19\": 0.958, \"P20\": 1.152, \"P21\": 1.324, \"P22\": 2.192, \"P23\": 0.779, \"P24\": 0.692,\n",
        "    \"P25\": 1.036, \"P26\": 1.618, \"P27\": 1.187, \"P28\": 0.884, \"P29\": 0.858, \"P30\": 1.269,\n",
        "    \"P31\": 0.811, \"P32\": 0.811, \"P33\": 0.636, \"P34\": 0.710, \"P35\": 0.675, \"P36\": 0.830,\n",
        "\n",
        "    # Medidas estadísticas\n",
        "    \"Media\": 1.0017222222222222,\n",
        "    \"Mediana\": 0.965,\n",
        "    \"Moda\": 1.118,\n",
        "    \"Desviacion Estandar\": 0.29762920733981807,\n",
        "    \"Varianza\": 0.08858314506172842,\n",
        "    \"Primer cuartil\": 0.8157500000000001,\n",
        "    \"Segundo cuartil\": 0.965,\n",
        "    \"Tercer cuartil\": 1.118\n",
        "}"
      ],
      "metadata": {
        "id": "vK-Ly9Lb9LrX"
      },
      "execution_count": 5,
      "outputs": []
    },
    {
      "cell_type": "code",
      "source": [
        "#Estrustura para el retorno de valores print(heights_dict[\"\"])"
      ],
      "metadata": {
        "id": "3B7AqRih9X1l"
      },
      "execution_count": null,
      "outputs": []
    },
    {
      "cell_type": "markdown",
      "source": [
        "EJEMPLOS DE USO"
      ],
      "metadata": {
        "id": "vmWt79gD-IdV"
      }
    },
    {
      "cell_type": "code",
      "source": [
        "print(heights_dict[\"Media\"])\n",
        "print(heights_dict[\"Varianza\"])\n",
        "print(heights_dict[\"P3\"])\n",
        "print(heights_dict[\"P35\"])"
      ],
      "metadata": {
        "colab": {
          "base_uri": "https://localhost:8080/"
        },
        "id": "saxMqyhE-Met",
        "outputId": "c350f3cc-f5f2-4648-97a0-0620290efb4f"
      },
      "execution_count": 6,
      "outputs": [
        {
          "output_type": "stream",
          "name": "stdout",
          "text": [
            "1.0017222222222222\n",
            "0.08858314506172842\n",
            "1.118\n",
            "0.675\n"
          ]
        }
      ]
    }
  ]
}